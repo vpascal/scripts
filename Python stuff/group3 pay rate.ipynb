{
 "cells": [
  {
   "cell_type": "code",
   "execution_count": null,
   "metadata": {
    "collapsed": true
   },
   "outputs": [],
   "source": [
    "import pandas as pd"
   ]
  },
  {
   "cell_type": "code",
   "execution_count": 22,
   "metadata": {},
   "outputs": [
    {
     "data": {
      "text/html": [
       "<div>\n",
       "<style>\n",
       "    .dataframe thead tr:only-child th {\n",
       "        text-align: right;\n",
       "    }\n",
       "\n",
       "    .dataframe thead th {\n",
       "        text-align: left;\n",
       "    }\n",
       "\n",
       "    .dataframe tbody tr th {\n",
       "        vertical-align: top;\n",
       "    }\n",
       "</style>\n",
       "<table border=\"1\" class=\"dataframe\">\n",
       "  <thead>\n",
       "    <tr style=\"text-align: right;\">\n",
       "      <th></th>\n",
       "      <th>Level</th>\n",
       "      <th>Taught by</th>\n",
       "      <th>Credits</th>\n",
       "      <th>Class Size</th>\n",
       "      <th>Pay</th>\n",
       "    </tr>\n",
       "  </thead>\n",
       "  <tbody>\n",
       "    <tr>\n",
       "      <th>0</th>\n",
       "      <td>Undergraduate</td>\n",
       "      <td>Group III: PHD</td>\n",
       "      <td>1</td>\n",
       "      <td>1</td>\n",
       "      <td>$89</td>\n",
       "    </tr>\n",
       "    <tr>\n",
       "      <th>1</th>\n",
       "      <td>Undergraduate</td>\n",
       "      <td>Group III: PHD</td>\n",
       "      <td>1</td>\n",
       "      <td>2</td>\n",
       "      <td>$178</td>\n",
       "    </tr>\n",
       "    <tr>\n",
       "      <th>2</th>\n",
       "      <td>Undergraduate</td>\n",
       "      <td>Group III: PHD</td>\n",
       "      <td>1</td>\n",
       "      <td>3</td>\n",
       "      <td>$267</td>\n",
       "    </tr>\n",
       "    <tr>\n",
       "      <th>3</th>\n",
       "      <td>Undergraduate</td>\n",
       "      <td>Group III: PHD</td>\n",
       "      <td>1</td>\n",
       "      <td>4</td>\n",
       "      <td>$356</td>\n",
       "    </tr>\n",
       "    <tr>\n",
       "      <th>4</th>\n",
       "      <td>Undergraduate</td>\n",
       "      <td>Group III: PHD</td>\n",
       "      <td>1</td>\n",
       "      <td>5</td>\n",
       "      <td>$445</td>\n",
       "    </tr>\n",
       "  </tbody>\n",
       "</table>\n",
       "</div>"
      ],
      "text/plain": [
       "           Level       Taught by  Credits  Class Size   Pay\n",
       "0  Undergraduate  Group III: PHD        1           1   $89\n",
       "1  Undergraduate  Group III: PHD        1           2  $178\n",
       "2  Undergraduate  Group III: PHD        1           3  $267\n",
       "3  Undergraduate  Group III: PHD        1           4  $356\n",
       "4  Undergraduate  Group III: PHD        1           5  $445"
      ]
     },
     "execution_count": 22,
     "metadata": {},
     "output_type": "execute_result"
    }
   ],
   "source": [
    "lookup=pd.read_csv('rates.csv')\n",
    "lookup.head()"
   ]
  },
  {
   "cell_type": "code",
   "execution_count": 15,
   "metadata": {
    "collapsed": true
   },
   "outputs": [],
   "source": [
    "def class_size(size):\n",
    "    if size > 13:\n",
    "        size=13\n",
    "    return size"
   ]
  },
  {
   "cell_type": "code",
   "execution_count": 36,
   "metadata": {
    "collapsed": true
   },
   "outputs": [],
   "source": [
    "def group_3(level,size,credits,taughtby):\n",
    "    size = class_size(size)\n",
    "    level_c=lookup['Level'] == level\n",
    "    size_c = lookup['Class Size'] == size\n",
    "    credits_c = lookup['Credits'] == credits\n",
    "    taughtby_c = lookup['Taught by'] == taughtby\n",
    "    \n",
    "    return lookup[level_c & size_c & credits_c & taughtby_c].Pay"
   ]
  },
  {
   "cell_type": "code",
   "execution_count": 37,
   "metadata": {},
   "outputs": [
    {
     "data": {
      "text/plain": [
       "0    $89\n",
       "Name: Pay, dtype: object"
      ]
     },
     "execution_count": 37,
     "metadata": {},
     "output_type": "execute_result"
    }
   ],
   "source": [
    "group_3('Undergraduate',1,1,'Group III: PHD')"
   ]
  }
 ],
 "metadata": {
  "kernelspec": {
   "display_name": "Python 3",
   "language": "python",
   "name": "python3"
  },
  "language_info": {
   "codemirror_mode": {
    "name": "ipython",
    "version": 3
   },
   "file_extension": ".py",
   "mimetype": "text/x-python",
   "name": "python",
   "nbconvert_exporter": "python",
   "pygments_lexer": "ipython3",
   "version": "3.6.3"
  }
 },
 "nbformat": 4,
 "nbformat_minor": 2
}
