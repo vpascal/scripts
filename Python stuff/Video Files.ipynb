{
 "cells": [
  {
   "cell_type": "code",
   "execution_count": 10,
   "metadata": {},
   "outputs": [],
   "source": [
    "import pandas as pd\n",
    "import os\n",
    "import glob"
   ]
  },
  {
   "cell_type": "code",
   "execution_count": 11,
   "metadata": {},
   "outputs": [
    {
     "name": "stdout",
     "output_type": "stream",
     "text": [
      "246\n"
     ]
    }
   ],
   "source": [
    "path = \"E:\\Vimeo Downloaded\"\n",
    "files = glob.glob(os.path.join(path,\"*.mp4\"))\n",
    "temp = [file.split(\"\\\\\")[2] for file in files]\n",
    "print(len(temp))"
   ]
  },
  {
   "cell_type": "code",
   "execution_count": 16,
   "metadata": {},
   "outputs": [
    {
     "name": "stdout",
     "output_type": "stream",
     "text": [
      "                                                  Name\n",
      "0                                     2010 Convocation\n",
      "1                              2012-03-04 14-00-49.312\n",
      "2                                 3-4-2011 10-23-10 AM\n",
      "3        Add_Modify Enrollments in a Blackboard Course\n",
      "4                                                Ann 3\n",
      "5                                                Ann 6\n",
      "6                                        Ann Paulins 4\n",
      "7                                        Ann Paulins 5\n",
      "8              BB9 Instructor Orientation_ Assignments\n",
      "9         BB9 Instructor Orientation_ Content Creation\n",
      "10        BB9 Instructor Orientation_ Discussion Board\n",
      "11         BB9 Instructor Orientation_ File Repository\n",
      "12              BB9 Instructor Orientation_ Turn-It-In\n",
      "13                   BB9 Student Orientation_ Overview\n",
      "14                BB9 Student Orientation_ Submissions\n",
      "15                                                Beam\n",
      "16                                                 BV1\n",
      "17                                                BV10\n",
      "18                                                BV11\n",
      "19                                                 BV9\n",
      "20                                             BVD_3-1\n",
      "21                                             BVD_4-1\n",
      "22                                             BVD_5-1\n",
      "23                                             BVD_6-1\n",
      "24                                             BVD_8-1\n",
      "25                                   Caving 2014 File2\n",
      "26                                    CDC Virtual Tour\n",
      "27                                   CHRIS_KENNEDY_1-1\n",
      "28                                                 CK4\n",
      "29                                               CK5-1\n",
      "..                                                 ...\n",
      "216                            standard_1_-_vid_1_of_3\n",
      "217                            standard_1_-_vid_2_of_3\n",
      "218                            standard_1_-_vid_3_of_3\n",
      "219                            standard_2_-_vid_1_of_3\n",
      "220                            standard_2_-_vid_2_of_3\n",
      "221                            standard_2_-_vid_3_of_3\n",
      "222                            standard_3_-_vid_1_of_4\n",
      "223                            standard_3_-_vid_2_of_4\n",
      "224                            standard_3_-_vid_3_of_4\n",
      "225                            standard_3_-_vid_4_of_4\n",
      "226                            standard_4_-_vid_2_of_4\n",
      "227                            standard_4_-_vid_3_of_4\n",
      "228                            standard_4_-_vid_4_of_4\n",
      "229                            standard_7_-_vid_1_of_1\n",
      "230  Teacher Intern Seminar_ Intro, Handbook & Vide...\n",
      "231  Teacher Intern Seminar_ Submitting, Resources,...\n",
      "232                               The History of CORAS\n",
      "233                                  The Patton Legacy\n",
      "234                                             Theory\n",
      "235                                TomGoetz mod2 partA\n",
      "236                                   TomGoetz Module1\n",
      "237                                           Tony (1)\n",
      "238                                               Tony\n",
      "239                                           Untitled\n",
      "240                                         Untitled_2\n",
      "241                                         Untitled_3\n",
      "242                                         Untitled_4\n",
      "243                                           VIDEO TS\n",
      "244                          Welcome & Opening Remarks\n",
      "245       welcome_to_the_college_of_education_@ohio_u_\n",
      "\n",
      "[246 rows x 1 columns]\n"
     ]
    }
   ],
   "source": [
    "temp = pd.DataFrame(temp, columns=['Name'])\n",
    "temp.Name = temp.Name.str.replace('.mp4','')\n",
    "print(temp)\n",
    "temp.to_excel('Videos for Youtube.xlsx')"
   ]
  }
 ],
 "metadata": {
  "kernelspec": {
   "display_name": "Python 3",
   "language": "python",
   "name": "python3"
  },
  "language_info": {
   "codemirror_mode": {
    "name": "ipython",
    "version": 3
   },
   "file_extension": ".py",
   "mimetype": "text/x-python",
   "name": "python",
   "nbconvert_exporter": "python",
   "pygments_lexer": "ipython3",
   "version": "3.7.6"
  }
 },
 "nbformat": 4,
 "nbformat_minor": 4
}
